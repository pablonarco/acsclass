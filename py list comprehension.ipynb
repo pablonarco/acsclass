{
 "cells": [
  {
   "cell_type": "code",
   "execution_count": 28,
   "metadata": {},
   "outputs": [
    {
     "name": "stdout",
     "output_type": "stream",
     "text": [
      "[0, 1, 4, 9, 16]\n"
     ]
    }
   ],
   "source": [
    "q = [i*i for i in range(5)]\n",
    "print (q)"
   ]
  },
  {
   "cell_type": "code",
   "execution_count": 6,
   "metadata": {},
   "outputs": [
    {
     "name": "stdout",
     "output_type": "stream",
     "text": [
      "[0, 1, 4, 9, 16, 25, 36, 49, 64, 81, 100, 121, 144, 169, 196, 225, 256, 289, 324, 361, 400, 441, 484, 529, 576, 625, 676, 729, 784, 841, 900, 961, 1024, 1089, 1156, 1225, 1296, 1369, 1444, 1521, 1600, 1681, 1764, 1849, 1936, 2025, 2116, 2209, 2304, 2401]\n"
     ]
    }
   ],
   "source": [
    "y = [i*i for i in range(50)]\n",
    "print (y)"
   ]
  },
  {
   "cell_type": "code",
   "execution_count": 8,
   "metadata": {},
   "outputs": [
    {
     "name": "stdout",
     "output_type": "stream",
     "text": [
      "Enter 3 numbers separated by space 23 54 1\n",
      "['23', '54', '1']\n"
     ]
    }
   ],
   "source": [
    "lst = [x for x in input(\"Enter 3 numbers separated by space \").split()] \n",
    "print(lst)"
   ]
  },
  {
   "cell_type": "code",
   "execution_count": 9,
   "metadata": {},
   "outputs": [
    {
     "name": "stdout",
     "output_type": "stream",
     "text": [
      "Enter 3 str separated by space dscl dfvlnd sdlv\n",
      "['dscl', 'dfvlnd', 'sdlv']\n"
     ]
    }
   ],
   "source": [
    "lst = [x for x in input(\"Enter 3 str separated by space \").split()] \n",
    "print (lst)"
   ]
  },
  {
   "cell_type": "code",
   "execution_count": 12,
   "metadata": {},
   "outputs": [
    {
     "name": "stdout",
     "output_type": "stream",
     "text": [
      "Enter 3 str separated by , sdcjsd,234, dsncs\n",
      "['sdcjsd', '234', ' dsncs']\n"
     ]
    }
   ],
   "source": [
    "lst = [x for x in input(\"Enter 3 str separated by , \").split(',')] \n",
    "print (lst)"
   ]
  },
  {
   "cell_type": "code",
   "execution_count": 17,
   "metadata": {},
   "outputs": [
    {
     "name": "stdout",
     "output_type": "stream",
     "text": [
      "enter 3 nos2452 5245 5432\n",
      "['2452', '5245', '5432']\n"
     ]
    }
   ],
   "source": [
    "a = [ x for x in input('enter 3 nos: ').split()]\n",
    "print(a)"
   ]
  },
  {
   "cell_type": "code",
   "execution_count": 15,
   "metadata": {},
   "outputs": [
    {
     "name": "stdout",
     "output_type": "stream",
     "text": [
      "['234', 'sdv', 'dfds']\n"
     ]
    }
   ],
   "source": [
    "print(a)"
   ]
  },
  {
   "cell_type": "code",
   "execution_count": 18,
   "metadata": {},
   "outputs": [
    {
     "data": {
      "text/plain": [
       "3.141592653589793"
      ]
     },
     "execution_count": 18,
     "metadata": {},
     "output_type": "execute_result"
    }
   ],
   "source": [
    "import math\n",
    "math.pi"
   ]
  },
  {
   "cell_type": "code",
   "execution_count": 19,
   "metadata": {},
   "outputs": [
    {
     "data": {
      "text/plain": [
       "3.141592653589793"
      ]
     },
     "execution_count": 19,
     "metadata": {},
     "output_type": "execute_result"
    }
   ],
   "source": [
    "from math import pi\n",
    "pi"
   ]
  },
  {
   "cell_type": "code",
   "execution_count": 21,
   "metadata": {
    "scrolled": true
   },
   "outputs": [
    {
     "name": "stdout",
     "output_type": "stream",
     "text": [
      "enter 3 str: fwe fwewf324 23423\n",
      "['fwe', 'fwewf324', '23423']\n"
     ]
    }
   ],
   "source": [
    "a = [ str(x) for x in input('enter 3 str: ').split()]\n",
    "print(a)"
   ]
  },
  {
   "cell_type": "code",
   "execution_count": 46,
   "metadata": {},
   "outputs": [
    {
     "name": "stdout",
     "output_type": "stream",
     "text": [
      "4.47213595499958\n",
      "20\n",
      "34\n"
     ]
    }
   ],
   "source": [
    "pi = 20\n",
    "#from math import pi\n",
    "from math import sqrt\n",
    "print(sqrt(pi))\n",
    "print(pi)\n",
    "\n",
    "def ak47():\n",
    "    pi = 34\n",
    "    print (pi)\n",
    "ak47()"
   ]
  },
  {
   "cell_type": "code",
   "execution_count": 48,
   "metadata": {},
   "outputs": [
    {
     "name": "stdout",
     "output_type": "stream",
     "text": [
      "[2. 3. 5.]\n"
     ]
    },
    {
     "data": {
      "text/plain": [
       "numpy.ndarray"
      ]
     },
     "execution_count": 48,
     "metadata": {},
     "output_type": "execute_result"
    }
   ],
   "source": [
    "import numpy as np\n",
    "ls = [4,9,25]\n",
    "q = (np.sqrt(ls))\n",
    "print(q)\n",
    "type(q)"
   ]
  },
  {
   "cell_type": "code",
   "execution_count": 55,
   "metadata": {},
   "outputs": [
    {
     "name": "stdout",
     "output_type": "stream",
     "text": [
      "[2.0, 21.354156504062622, 3.4641016151377544, 2.6457513110645907, 1.4142135623730951, 8.0, 8.660254037844387]\n"
     ]
    },
    {
     "data": {
      "text/plain": [
       "list"
      ]
     },
     "execution_count": 55,
     "metadata": {},
     "output_type": "execute_result"
    }
   ],
   "source": [
    "def mysqrt(a):\n",
    "    q = [sqrt(i) for i in a]\n",
    "    return (q)\n",
    "    \n",
    "lst = [4,456,12,7,2,64,75]\n",
    "print(mysqrt(lst))\n",
    "type(lst)"
   ]
  },
  {
   "cell_type": "code",
   "execution_count": 64,
   "metadata": {
    "collapsed": true
   },
   "outputs": [
    {
     "data": {
      "text/plain": [
       "[0,\n",
       " 0,\n",
       " 0,\n",
       " 0,\n",
       " 0,\n",
       " 1,\n",
       " 1,\n",
       " 1,\n",
       " 1,\n",
       " 1,\n",
       " 4,\n",
       " 4,\n",
       " 4,\n",
       " 4,\n",
       " 4,\n",
       " 9,\n",
       " 9,\n",
       " 9,\n",
       " 9,\n",
       " 9,\n",
       " 16,\n",
       " 16,\n",
       " 16,\n",
       " 16,\n",
       " 16,\n",
       " 25,\n",
       " 25,\n",
       " 25,\n",
       " 25,\n",
       " 25,\n",
       " 36,\n",
       " 36,\n",
       " 36,\n",
       " 36,\n",
       " 36,\n",
       " 49,\n",
       " 49,\n",
       " 49,\n",
       " 49,\n",
       " 49,\n",
       " 64,\n",
       " 64,\n",
       " 64,\n",
       " 64,\n",
       " 64,\n",
       " 81,\n",
       " 81,\n",
       " 81,\n",
       " 81,\n",
       " 81,\n",
       " 100,\n",
       " 100,\n",
       " 100,\n",
       " 100,\n",
       " 100,\n",
       " 121,\n",
       " 121,\n",
       " 121,\n",
       " 121,\n",
       " 121,\n",
       " 144,\n",
       " 144,\n",
       " 144,\n",
       " 144,\n",
       " 144,\n",
       " 169,\n",
       " 169,\n",
       " 169,\n",
       " 169,\n",
       " 169,\n",
       " 196,\n",
       " 196,\n",
       " 196,\n",
       " 196,\n",
       " 196,\n",
       " 225,\n",
       " 225,\n",
       " 225,\n",
       " 225,\n",
       " 225,\n",
       " 256,\n",
       " 256,\n",
       " 256,\n",
       " 256,\n",
       " 256,\n",
       " 289,\n",
       " 289,\n",
       " 289,\n",
       " 289,\n",
       " 289,\n",
       " 324,\n",
       " 324,\n",
       " 324,\n",
       " 324,\n",
       " 324,\n",
       " 361,\n",
       " 361,\n",
       " 361,\n",
       " 361,\n",
       " 361,\n",
       " 400,\n",
       " 400,\n",
       " 400,\n",
       " 400,\n",
       " 400,\n",
       " 441,\n",
       " 441,\n",
       " 441,\n",
       " 441,\n",
       " 441,\n",
       " 484,\n",
       " 484,\n",
       " 484,\n",
       " 484,\n",
       " 484,\n",
       " 529,\n",
       " 529,\n",
       " 529,\n",
       " 529,\n",
       " 529,\n",
       " 576,\n",
       " 576,\n",
       " 576,\n",
       " 576,\n",
       " 576,\n",
       " 625,\n",
       " 625,\n",
       " 625,\n",
       " 625,\n",
       " 625,\n",
       " 676,\n",
       " 676,\n",
       " 676,\n",
       " 676,\n",
       " 676,\n",
       " 729,\n",
       " 729,\n",
       " 729,\n",
       " 729,\n",
       " 729,\n",
       " 784,\n",
       " 784,\n",
       " 784,\n",
       " 784,\n",
       " 784,\n",
       " 841,\n",
       " 841,\n",
       " 841,\n",
       " 841,\n",
       " 841,\n",
       " 900,\n",
       " 900,\n",
       " 900,\n",
       " 900,\n",
       " 900,\n",
       " 961,\n",
       " 961,\n",
       " 961,\n",
       " 961,\n",
       " 961,\n",
       " 1024,\n",
       " 1024,\n",
       " 1024,\n",
       " 1024,\n",
       " 1024,\n",
       " 1089,\n",
       " 1089,\n",
       " 1089,\n",
       " 1089,\n",
       " 1089,\n",
       " 1156,\n",
       " 1156,\n",
       " 1156,\n",
       " 1156,\n",
       " 1156,\n",
       " 1225,\n",
       " 1225,\n",
       " 1225,\n",
       " 1225,\n",
       " 1225,\n",
       " 1296,\n",
       " 1296,\n",
       " 1296,\n",
       " 1296,\n",
       " 1296,\n",
       " 1369,\n",
       " 1369,\n",
       " 1369,\n",
       " 1369,\n",
       " 1369,\n",
       " 1444,\n",
       " 1444,\n",
       " 1444,\n",
       " 1444,\n",
       " 1444,\n",
       " 1521,\n",
       " 1521,\n",
       " 1521,\n",
       " 1521,\n",
       " 1521,\n",
       " 1600,\n",
       " 1600,\n",
       " 1600,\n",
       " 1600,\n",
       " 1600,\n",
       " 1681,\n",
       " 1681,\n",
       " 1681,\n",
       " 1681,\n",
       " 1681,\n",
       " 1764,\n",
       " 1764,\n",
       " 1764,\n",
       " 1764,\n",
       " 1764,\n",
       " 1849,\n",
       " 1849,\n",
       " 1849,\n",
       " 1849,\n",
       " 1849,\n",
       " 1936,\n",
       " 1936,\n",
       " 1936,\n",
       " 1936,\n",
       " 1936,\n",
       " 2025,\n",
       " 2025,\n",
       " 2025,\n",
       " 2025,\n",
       " 2025,\n",
       " 2116,\n",
       " 2116,\n",
       " 2116,\n",
       " 2116,\n",
       " 2116,\n",
       " 2209,\n",
       " 2209,\n",
       " 2209,\n",
       " 2209,\n",
       " 2209,\n",
       " 2304,\n",
       " 2304,\n",
       " 2304,\n",
       " 2304,\n",
       " 2304,\n",
       " 2401,\n",
       " 2401,\n",
       " 2401,\n",
       " 2401,\n",
       " 2401]"
      ]
     },
     "execution_count": 64,
     "metadata": {},
     "output_type": "execute_result"
    }
   ],
   "source": [
    "def mysqrt(a):\n",
    "    q = [x for x in y for y in a]\n",
    "    return (q)\n",
    "lst = [[4,456,12],7,2,64,75]\n",
    "mysqrt(lst)"
   ]
  },
  {
   "cell_type": "code",
   "execution_count": null,
   "metadata": {},
   "outputs": [],
   "source": [
    "lst = [[4,16,25],[9,81,121]]"
   ]
  },
  {
   "cell_type": "code",
   "execution_count": 76,
   "metadata": {
    "collapsed": true
   },
   "outputs": [
    {
     "ename": "TypeError",
     "evalue": "must be real number, not list",
     "output_type": "error",
     "traceback": [
      "\u001b[0;31m---------------------------------------------------------------------------\u001b[0m",
      "\u001b[0;31mTypeError\u001b[0m                                 Traceback (most recent call last)",
      "\u001b[0;32m<ipython-input-76-de4ed1aeb063>\u001b[0m in \u001b[0;36m<module>\u001b[0;34m\u001b[0m\n\u001b[1;32m      5\u001b[0m \u001b[0;32mfor\u001b[0m \u001b[0ma\u001b[0m \u001b[0;32min\u001b[0m \u001b[0mls\u001b[0m\u001b[0;34m:\u001b[0m\u001b[0;34m\u001b[0m\u001b[0;34m\u001b[0m\u001b[0m\n\u001b[1;32m      6\u001b[0m     \u001b[0;32mfor\u001b[0m \u001b[0mb\u001b[0m \u001b[0;32min\u001b[0m \u001b[0ma\u001b[0m\u001b[0;34m:\u001b[0m\u001b[0;34m\u001b[0m\u001b[0;34m\u001b[0m\u001b[0m\n\u001b[0;32m----> 7\u001b[0;31m         \u001b[0mq\u001b[0m \u001b[0;34m=\u001b[0m \u001b[0;34m[\u001b[0m\u001b[0msqrt\u001b[0m\u001b[0;34m(\u001b[0m\u001b[0mx\u001b[0m\u001b[0;34m)\u001b[0m \u001b[0;32mfor\u001b[0m \u001b[0mx\u001b[0m \u001b[0;32min\u001b[0m \u001b[0mls\u001b[0m\u001b[0;34m]\u001b[0m\u001b[0;34m\u001b[0m\u001b[0;34m\u001b[0m\u001b[0m\n\u001b[0m\u001b[1;32m      8\u001b[0m \u001b[0mprint\u001b[0m \u001b[0;34m(\u001b[0m\u001b[0mq\u001b[0m\u001b[0;34m)\u001b[0m\u001b[0;34m\u001b[0m\u001b[0;34m\u001b[0m\u001b[0m\n\u001b[1;32m      9\u001b[0m \u001b[0;34m\u001b[0m\u001b[0m\n",
      "\u001b[0;32m<ipython-input-76-de4ed1aeb063>\u001b[0m in \u001b[0;36m<listcomp>\u001b[0;34m(.0)\u001b[0m\n\u001b[1;32m      5\u001b[0m \u001b[0;32mfor\u001b[0m \u001b[0ma\u001b[0m \u001b[0;32min\u001b[0m \u001b[0mls\u001b[0m\u001b[0;34m:\u001b[0m\u001b[0;34m\u001b[0m\u001b[0;34m\u001b[0m\u001b[0m\n\u001b[1;32m      6\u001b[0m     \u001b[0;32mfor\u001b[0m \u001b[0mb\u001b[0m \u001b[0;32min\u001b[0m \u001b[0ma\u001b[0m\u001b[0;34m:\u001b[0m\u001b[0;34m\u001b[0m\u001b[0;34m\u001b[0m\u001b[0m\n\u001b[0;32m----> 7\u001b[0;31m         \u001b[0mq\u001b[0m \u001b[0;34m=\u001b[0m \u001b[0;34m[\u001b[0m\u001b[0msqrt\u001b[0m\u001b[0;34m(\u001b[0m\u001b[0mx\u001b[0m\u001b[0;34m)\u001b[0m \u001b[0;32mfor\u001b[0m \u001b[0mx\u001b[0m \u001b[0;32min\u001b[0m \u001b[0mls\u001b[0m\u001b[0;34m]\u001b[0m\u001b[0;34m\u001b[0m\u001b[0;34m\u001b[0m\u001b[0m\n\u001b[0m\u001b[1;32m      8\u001b[0m \u001b[0mprint\u001b[0m \u001b[0;34m(\u001b[0m\u001b[0mq\u001b[0m\u001b[0;34m)\u001b[0m\u001b[0;34m\u001b[0m\u001b[0;34m\u001b[0m\u001b[0m\n\u001b[1;32m      9\u001b[0m \u001b[0;34m\u001b[0m\u001b[0m\n",
      "\u001b[0;31mTypeError\u001b[0m: must be real number, not list"
     ]
    }
   ],
   "source": [
    "#def mysqrt(a):\n",
    "\n",
    "ls = [[4,16,125],[9,81,121]]\n",
    "#lsb = [(x for x in y) for y in a]\n",
    "for a in ls:\n",
    "    for b in a:\n",
    "        q = [sqrt(x) for x in ls]\n",
    "print (q)\n",
    "\n",
    "#mysqrt(lst)"
   ]
  },
  {
   "cell_type": "code",
   "execution_count": 79,
   "metadata": {},
   "outputs": [
    {
     "name": "stdout",
     "output_type": "stream",
     "text": [
      "64\n"
     ]
    }
   ],
   "source": [
    "def sqr(x): return x*x\n",
    "print (sqr(8))"
   ]
  },
  {
   "cell_type": "code",
   "execution_count": 81,
   "metadata": {},
   "outputs": [
    {
     "name": "stdout",
     "output_type": "stream",
     "text": [
      "27\n"
     ]
    }
   ],
   "source": [
    "f = lambda x : x**x\n",
    "print (f(3))"
   ]
  },
  {
   "cell_type": "code",
   "execution_count": 82,
   "metadata": {},
   "outputs": [
    {
     "name": "stdout",
     "output_type": "stream",
     "text": [
      "Even\n"
     ]
    }
   ],
   "source": [
    "f = lambda n : \"Even\" if n%2 == 0 else 'odd'\n",
    "print (f(234))"
   ]
  },
  {
   "cell_type": "code",
   "execution_count": 94,
   "metadata": {},
   "outputs": [
    {
     "name": "stdout",
     "output_type": "stream",
     "text": [
      "[2, 4, 6, 8, 10, 12, 14, 16, 18, 20, 22, 24, 26, 28, 30, 32, 34, 36, 38, 40, 42, 44, 46, 48, 50]\n"
     ]
    }
   ],
   "source": [
    "def eo(x):\n",
    "    if x%2==0:\n",
    "        return True\n",
    "    else:\n",
    "        return False\n",
    "    \n",
    "a = []\n",
    "for i in range(1,51):\n",
    "    a.append(i)\n",
    "\n",
    "result = filter (eo,a)\n",
    "print (list(result))\n",
    "#type(result)"
   ]
  },
  {
   "cell_type": "code",
   "execution_count": 89,
   "metadata": {},
   "outputs": [
    {
     "name": "stdout",
     "output_type": "stream",
     "text": [
      "[1, 2, 3, 4, 5, 6, 7, 8, 9, 10, 11, 12, 13, 14, 15, 16, 17, 18, 19, 20, 21, 22, 23, 24, 25, 26, 27, 28, 29, 30, 31, 32, 33, 34, 35, 36, 37, 38, 39, 40, 41, 42, 43, 44, 45, 46, 47, 48, 49, 50]\n"
     ]
    },
    {
     "data": {
      "text/plain": [
       "list"
      ]
     },
     "execution_count": 89,
     "metadata": {},
     "output_type": "execute_result"
    }
   ],
   "source": [
    "a = []\n",
    "\n",
    "for i in range(1,51):\n",
    "    a.append(i)\n",
    "print (a)\n",
    "type(a)"
   ]
  },
  {
   "cell_type": "code",
   "execution_count": 99,
   "metadata": {},
   "outputs": [
    {
     "name": "stdout",
     "output_type": "stream",
     "text": [
      "[2, 4, 6, 8, 10, 12, 14, 16, 18, 20, 22, 24, 26, 28, 30, 32, 34, 36, 38, 40, 42, 44, 46, 48, 50]\n"
     ]
    }
   ],
   "source": [
    "lst = range(1,51)\n",
    "result = list(filter (lambda x: x%2==0, lst))\n",
    "print (result)\n",
    "#print(type(result))"
   ]
  },
  {
   "cell_type": "code",
   "execution_count": 105,
   "metadata": {},
   "outputs": [
    {
     "name": "stderr",
     "output_type": "stream",
     "text": [
      "<>:4: SyntaxWarning: assertion is always true, perhaps remove parentheses?\n",
      "<>:4: SyntaxWarning: assertion is always true, perhaps remove parentheses?\n",
      "<>:4: SyntaxWarning: assertion is always true, perhaps remove parentheses?\n",
      "<ipython-input-105-966e86c00861>:4: SyntaxWarning: assertion is always true, perhaps remove parentheses?\n",
      "  assert (i > 10, 'assertion below min value')\n"
     ]
    }
   ],
   "source": [
    "list = [12,43,16,76]\n",
    "\n",
    "for i in lst:\n",
    "    assert (i > 10, 'assertion below min value')"
   ]
  },
  {
   "cell_type": "code",
   "execution_count": null,
   "metadata": {},
   "outputs": [],
   "source": []
  },
  {
   "cell_type": "code",
   "execution_count": null,
   "metadata": {},
   "outputs": [],
   "source": []
  },
  {
   "cell_type": "code",
   "execution_count": null,
   "metadata": {},
   "outputs": [],
   "source": []
  },
  {
   "cell_type": "code",
   "execution_count": null,
   "metadata": {},
   "outputs": [],
   "source": []
  }
 ],
 "metadata": {
  "kernelspec": {
   "display_name": "Python 3",
   "language": "python",
   "name": "python3"
  },
  "language_info": {
   "codemirror_mode": {
    "name": "ipython",
    "version": 3
   },
   "file_extension": ".py",
   "mimetype": "text/x-python",
   "name": "python",
   "nbconvert_exporter": "python",
   "pygments_lexer": "ipython3",
   "version": "3.7.6"
  }
 },
 "nbformat": 4,
 "nbformat_minor": 2
}
