{
  "nbformat": 4,
  "nbformat_minor": 0,
  "metadata": {
    "colab": {
      "name": "Untitled",
      "provenance": [],
      "authorship_tag": "ABX9TyMOCUpmzWsKQL/LkR32c6MD"
    },
    "kernelspec": {
      "name": "python3",
      "display_name": "Python 3"
    }
  },
  "cells": [
    {
      "cell_type": "code",
      "metadata": {
        "id": "aN8yn-0ukK_l",
        "colab_type": "code",
        "colab": {
          "base_uri": "https://localhost:8080/",
          "height": 35
        },
        "outputId": "2ceb197e-eedf-48d9-c244-b74b6fe769db"
      },
      "source": [
        "2**8\n",
        "7/3\n",
        "8/2\n",
        "8//2\n",
        "7//3\n",
        "-7/3\n",
        "-7//3"
      ],
      "execution_count": 8,
      "outputs": [
        {
          "output_type": "execute_result",
          "data": {
            "text/plain": [
              "-3"
            ]
          },
          "metadata": {
            "tags": []
          },
          "execution_count": 8
        }
      ]
    },
    {
      "cell_type": "code",
      "metadata": {
        "id": "WugU_ATqliA6",
        "colab_type": "code",
        "colab": {
          "base_uri": "https://localhost:8080/",
          "height": 72
        },
        "outputId": "5ead36b5-1051-4510-c8ae-135994f2b23f"
      },
      "source": [
        "print ('one')\n",
        "print ('two')\n",
        "print ('three')"
      ],
      "execution_count": 9,
      "outputs": [
        {
          "output_type": "stream",
          "text": [
            "one\n",
            "two\n",
            "three\n"
          ],
          "name": "stdout"
        }
      ]
    },
    {
      "cell_type": "code",
      "metadata": {
        "id": "T35_2T3vlmEQ",
        "colab_type": "code",
        "colab": {
          "base_uri": "https://localhost:8080/",
          "height": 35
        },
        "outputId": "442c1b86-befb-425f-81fa-a8d771a18449"
      },
      "source": [
        "print ('one', end = ' ')\n",
        "print ('two', end = ' ')\n",
        "print ('three')"
      ],
      "execution_count": 10,
      "outputs": [
        {
          "output_type": "stream",
          "text": [
            "one two three\n"
          ],
          "name": "stdout"
        }
      ]
    },
    {
      "cell_type": "code",
      "metadata": {
        "id": "z5vAqAaXltcc",
        "colab_type": "code",
        "colab": {
          "base_uri": "https://localhost:8080/",
          "height": 35
        },
        "outputId": "5ff0717f-911b-492e-d3cc-89ace702bd31"
      },
      "source": [
        "print ('one', end = ', ')\n",
        "print ('two', end = ', ')\n",
        "print ('three')"
      ],
      "execution_count": 11,
      "outputs": [
        {
          "output_type": "stream",
          "text": [
            "one, two, three\n"
          ],
          "name": "stdout"
        }
      ]
    },
    {
      "cell_type": "code",
      "metadata": {
        "id": "7EuJQSY_l6m5",
        "colab_type": "code",
        "colab": {
          "base_uri": "https://localhost:8080/",
          "height": 72
        },
        "outputId": "b0534d1b-8f09-4ed3-f8e3-4dd64999f267"
      },
      "source": [
        "print (\"One, 'two', \\\"three\\\", four, \\n \\\\five\\ once, 'I' caught a \\n fish '//alive\\\\\\\\'\" )"
      ],
      "execution_count": 14,
      "outputs": [
        {
          "output_type": "stream",
          "text": [
            "One, 'two', \"three\", four, \n",
            " \\five\\ once, 'I' caught a \n",
            " fish '//alive\\\\'\n"
          ],
          "name": "stdout"
        }
      ]
    },
    {
      "cell_type": "code",
      "metadata": {
        "id": "fFzYDgidmtDz",
        "colab_type": "code",
        "colab": {
          "base_uri": "https://localhost:8080/",
          "height": 72
        },
        "outputId": "087fe227-796c-4226-b5f3-c637b1c696cd"
      },
      "source": [
        "inp = int (input (\"no of apples? \\n >>\"))\n",
        "type (inp)"
      ],
      "execution_count": 17,
      "outputs": [
        {
          "output_type": "stream",
          "text": [
            "no of apples? \n",
            " >>3\n"
          ],
          "name": "stdout"
        },
        {
          "output_type": "execute_result",
          "data": {
            "text/plain": [
              "int"
            ]
          },
          "metadata": {
            "tags": []
          },
          "execution_count": 17
        }
      ]
    },
    {
      "cell_type": "code",
      "metadata": {
        "id": "P2w4_unopMFN",
        "colab_type": "code",
        "colab": {}
      },
      "source": [
        ""
      ],
      "execution_count": 0,
      "outputs": []
    }
  ]
}